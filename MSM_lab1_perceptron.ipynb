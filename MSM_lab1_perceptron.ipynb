{
  "nbformat": 4,
  "nbformat_minor": 0,
  "metadata": {
    "colab": {
      "name": "MSM_lab1_perceptron.ipynb",
      "provenance": [],
      "authorship_tag": "ABX9TyOws3xbe5VxEQHXRQS5+Nme",
      "include_colab_link": true
    },
    "kernelspec": {
      "name": "python3",
      "display_name": "Python 3"
    },
    "language_info": {
      "name": "python"
    }
  },
  "cells": [
    {
      "cell_type": "markdown",
      "metadata": {
        "id": "view-in-github",
        "colab_type": "text"
      },
      "source": [
        "<a href=\"https://colab.research.google.com/github/trilgar/MSM-2021/blob/main/MSM_lab1_perceptron.ipynb\" target=\"_parent\"><img src=\"https://colab.research.google.com/assets/colab-badge.svg\" alt=\"Open In Colab\"/></a>"
      ]
    },
    {
      "cell_type": "code",
      "metadata": {
        "id": "2UL7kDwOpSjH"
      },
      "source": [
        "import torch\n",
        "import torch.nn as nn\n",
        "from torch.utils.data import DataLoader\n",
        "import torchvision.transforms as transforms\n",
        "import torchvision.datasets\n",
        "import torch.nn.functional as F\n",
        "import numpy as np\n",
        "import matplotlib.pyplot as plt"
      ],
      "execution_count": 22,
      "outputs": []
    },
    {
      "cell_type": "code",
      "metadata": {
        "id": "DCFRdwkYpZ9H"
      },
      "source": [
        "num_epochs = 5 \n",
        "num_classes = 10 \n",
        "batch_size = 100 \n",
        "learning_rate = 0.001\n",
        "DATA_PATH ='/content/datasets'\n",
        "MODEL_STORE_PATH ='/content/saveloads/'"
      ],
      "execution_count": 23,
      "outputs": []
    },
    {
      "cell_type": "code",
      "metadata": {
        "id": "WYhx3EqKpkkR"
      },
      "source": [
        "trans = transforms.Compose([transforms.ToTensor(), transforms.Normalize((0.1307,), (0.3081,))]) \n",
        "\n",
        "train_dataset = torchvision.datasets.MNIST(root=DATA_PATH, train=True, transform=trans, download=True) \n",
        "test_dataset = torchvision.datasets.MNIST(root=DATA_PATH, train=False, transform=trans)"
      ],
      "execution_count": 24,
      "outputs": []
    },
    {
      "cell_type": "code",
      "metadata": {
        "id": "Th4yAsarpnU6"
      },
      "source": [
        "train_loader = DataLoader(dataset=train_dataset, batch_size=batch_size,shuffle=True) \n",
        "test_loader = DataLoader(dataset=test_dataset, batch_size=batch_size, shuffle=False)"
      ],
      "execution_count": 25,
      "outputs": []
    },
    {
      "cell_type": "code",
      "metadata": {
        "id": "T5bpJRqAppgy"
      },
      "source": [
        "# class Perceptron(nn.Module):\n",
        "#     def __init__(self):\n",
        "#         super(Perceptron, self).__init__()\n",
        "#         self.fc1 = nn.Linear(28*28, 200)\n",
        "#         self.fc2 = nn.Linear(200, 200)\n",
        "#         self.fc3 = nn.Linear(200, 10)\n",
        "        \n",
        "\n",
        "#     def forward(self, x):\n",
        "#         out = F.relu(self.fc1(x))\n",
        "#         out = F.relu(self.fc2(out))\n",
        "#         out = F.log_softmax(self.fc3(out))\n",
        "#         return out"
      ],
      "execution_count": 26,
      "outputs": []
    },
    {
      "cell_type": "code",
      "metadata": {
        "id": "8TpjhemcvBzS"
      },
      "source": [
        "class Perceptron(nn.Module):\n",
        "    def __init__(self):\n",
        "        super(Perceptron, self).__init__()\n",
        "        self.fc1 = nn.Linear(28*28, 200)\n",
        "        self.fc2 = nn.Linear(200, 10)\n",
        "        \n",
        "\n",
        "    def forward(self, x):\n",
        "        out = F.relu(self.fc1(x))\n",
        "        out = F.log_softmax(self.fc2(out))\n",
        "        return out"
      ],
      "execution_count": 27,
      "outputs": []
    },
    {
      "cell_type": "code",
      "metadata": {
        "id": "ccXFkHqQsxR5"
      },
      "source": [
        "model = Perceptron()"
      ],
      "execution_count": 28,
      "outputs": []
    },
    {
      "cell_type": "code",
      "metadata": {
        "id": "a-t2cgRJrL_K"
      },
      "source": [
        "criterion = nn.CrossEntropyLoss()\n",
        "optimizer = torch.optim.Adam(model.parameters(), lr=learning_rate)"
      ],
      "execution_count": 29,
      "outputs": []
    },
    {
      "cell_type": "code",
      "metadata": {
        "colab": {
          "base_uri": "https://localhost:8080/"
        },
        "id": "gpQxl7AorMf5",
        "outputId": "0d530fb3-434b-43f3-cfdc-7cfcb9fe7a81"
      },
      "source": [
        "total_step = len(train_loader)\n",
        "loss_list = []\n",
        "acc_list = []\n",
        "for epoch in range(num_epochs):\n",
        "    for i, (images, labels) in enumerate(train_loader):\n",
        "        # Run the forward pass\n",
        "        images = images.view(-1, 28*28)\n",
        "        outputs = model(images)\n",
        "        loss = criterion(outputs, labels)\n",
        "        loss_list.append(loss.item())\n",
        "\n",
        "        # Backprop and perform Adam optimisation\n",
        "        optimizer.zero_grad()\n",
        "        loss.backward()\n",
        "        optimizer.step()\n",
        "\n",
        "        # Track the accuracy\n",
        "        total = labels.size(0)\n",
        "        _, predicted = torch.max(outputs.data, 1)\n",
        "        correct = (predicted == labels).sum().item()\n",
        "        acc_list.append(correct / total)\n",
        "\n",
        "        if (i + 1) % 100 == 0:\n",
        "            print('Epoch [{}/{}], Step [{}/{}], Loss: {:.4f}, Accuracy: {:.2f}%'\n",
        "                  .format(epoch + 1, num_epochs, i + 1, total_step, loss.item(),\n",
        "                          (correct / total) * 100))"
      ],
      "execution_count": 30,
      "outputs": [
        {
          "output_type": "stream",
          "name": "stderr",
          "text": [
            "/usr/local/lib/python3.7/dist-packages/ipykernel_launcher.py:10: UserWarning: Implicit dimension choice for log_softmax has been deprecated. Change the call to include dim=X as an argument.\n",
            "  # Remove the CWD from sys.path while we load stuff.\n"
          ]
        },
        {
          "output_type": "stream",
          "name": "stdout",
          "text": [
            "Epoch [1/5], Step [100/600], Loss: 0.1864, Accuracy: 96.00%\n",
            "Epoch [1/5], Step [200/600], Loss: 0.1912, Accuracy: 95.00%\n",
            "Epoch [1/5], Step [300/600], Loss: 0.2423, Accuracy: 92.00%\n",
            "Epoch [1/5], Step [400/600], Loss: 0.1784, Accuracy: 95.00%\n",
            "Epoch [1/5], Step [500/600], Loss: 0.1039, Accuracy: 98.00%\n",
            "Epoch [1/5], Step [600/600], Loss: 0.1080, Accuracy: 98.00%\n",
            "Epoch [2/5], Step [100/600], Loss: 0.1585, Accuracy: 97.00%\n",
            "Epoch [2/5], Step [200/600], Loss: 0.0940, Accuracy: 98.00%\n",
            "Epoch [2/5], Step [300/600], Loss: 0.1469, Accuracy: 95.00%\n",
            "Epoch [2/5], Step [400/600], Loss: 0.1788, Accuracy: 95.00%\n",
            "Epoch [2/5], Step [500/600], Loss: 0.0902, Accuracy: 98.00%\n",
            "Epoch [2/5], Step [600/600], Loss: 0.1577, Accuracy: 95.00%\n",
            "Epoch [3/5], Step [100/600], Loss: 0.0896, Accuracy: 97.00%\n",
            "Epoch [3/5], Step [200/600], Loss: 0.0374, Accuracy: 98.00%\n",
            "Epoch [3/5], Step [300/600], Loss: 0.0660, Accuracy: 99.00%\n",
            "Epoch [3/5], Step [400/600], Loss: 0.0604, Accuracy: 98.00%\n",
            "Epoch [3/5], Step [500/600], Loss: 0.0322, Accuracy: 99.00%\n",
            "Epoch [3/5], Step [600/600], Loss: 0.0467, Accuracy: 98.00%\n",
            "Epoch [4/5], Step [100/600], Loss: 0.0114, Accuracy: 100.00%\n",
            "Epoch [4/5], Step [200/600], Loss: 0.0657, Accuracy: 97.00%\n",
            "Epoch [4/5], Step [300/600], Loss: 0.0388, Accuracy: 99.00%\n",
            "Epoch [4/5], Step [400/600], Loss: 0.0716, Accuracy: 98.00%\n",
            "Epoch [4/5], Step [500/600], Loss: 0.0972, Accuracy: 98.00%\n",
            "Epoch [4/5], Step [600/600], Loss: 0.0263, Accuracy: 98.00%\n",
            "Epoch [5/5], Step [100/600], Loss: 0.0373, Accuracy: 98.00%\n",
            "Epoch [5/5], Step [200/600], Loss: 0.0303, Accuracy: 99.00%\n",
            "Epoch [5/5], Step [300/600], Loss: 0.0241, Accuracy: 100.00%\n",
            "Epoch [5/5], Step [400/600], Loss: 0.0465, Accuracy: 99.00%\n",
            "Epoch [5/5], Step [500/600], Loss: 0.0502, Accuracy: 99.00%\n",
            "Epoch [5/5], Step [600/600], Loss: 0.0840, Accuracy: 96.00%\n"
          ]
        }
      ]
    },
    {
      "cell_type": "code",
      "metadata": {
        "colab": {
          "base_uri": "https://localhost:8080/"
        },
        "id": "C54oasdPsoUQ",
        "outputId": "6984ba42-065c-404d-81c2-3fbb596da48d"
      },
      "source": [
        "model.eval()\n",
        "with torch.no_grad():\n",
        "    correct = 0\n",
        "    total = 0\n",
        "    for images, labels in test_loader:\n",
        "        images = images.view(-1, 28*28)\n",
        "        outputs = model(images)\n",
        "        _, predicted = torch.max(outputs.data, 1)\n",
        "        total += labels.size(0)\n",
        "        correct += (predicted == labels).sum().item()\n",
        "\n",
        "    print('Test Accuracy of the model on the 10000 test images: {} %'.format((correct / total) * 100))"
      ],
      "execution_count": 31,
      "outputs": [
        {
          "output_type": "stream",
          "name": "stderr",
          "text": [
            "/usr/local/lib/python3.7/dist-packages/ipykernel_launcher.py:10: UserWarning: Implicit dimension choice for log_softmax has been deprecated. Change the call to include dim=X as an argument.\n",
            "  # Remove the CWD from sys.path while we load stuff.\n"
          ]
        },
        {
          "output_type": "stream",
          "name": "stdout",
          "text": [
            "Test Accuracy of the model on the 10000 test images: 97.72 %\n"
          ]
        }
      ]
    },
    {
      "cell_type": "code",
      "metadata": {
        "id": "G9SRSMVqsqIH"
      },
      "source": [
        "torch.save(model.state_dict(),'conv_net_model.ckpt')"
      ],
      "execution_count": 32,
      "outputs": []
    },
    {
      "cell_type": "code",
      "metadata": {
        "colab": {
          "base_uri": "https://localhost:8080/",
          "height": 281
        },
        "id": "CJ7EYaA3sryn",
        "outputId": "e21de92d-94b2-40d7-8131-f74311f54d28"
      },
      "source": [
        "plt.title('Two layer perceptron')\n",
        "plt.ylabel(\"%\")\n",
        "plt.ylim((0, 100)) \n",
        "plt.plot(np.arange(len(loss_list)), np.array(acc_list)*100, color = \"blue\", label= 'Accuracy')\n",
        "plt.plot(np.arange(len(loss_list)), np.array(loss_list)*100, color= 'red', label = 'loss negative log likelihood')\n",
        "plt.legend()\n",
        "plt.show()"
      ],
      "execution_count": 35,
      "outputs": [
        {
          "output_type": "display_data",
          "data": {
            "image/png": "[encoded data removed]",
            "text/plain": [
              "<Figure size 432x288 with 1 Axes>"
            ]
          },
          "metadata": {
            "needs_background": "light"
          }
        }
      ]
    }
  ]
}