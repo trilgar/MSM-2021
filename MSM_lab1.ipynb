{
  "nbformat": 4,
  "nbformat_minor": 0,
  "metadata": {
    "colab": {
      "name": "MSM_lab1.ipynb",
      "provenance": [],
      "authorship_tag": "ABX9TyNlcXwr8HxRqGeoFpPqN3tE",
      "include_colab_link": true
    },
    "kernelspec": {
      "name": "python3",
      "display_name": "Python 3"
    },
    "language_info": {
      "name": "python"
    },
    "accelerator": "GPU"
  },
  "cells": [
    {
      "cell_type": "markdown",
      "metadata": {
        "id": "view-in-github",
        "colab_type": "text"
      },
      "source": [
        "<a href=\"https://colab.research.google.com/github/trilgar/MSM-2021/blob/main/MSM_lab1.ipynb\" target=\"_parent\"><img src=\"https://colab.research.google.com/assets/colab-badge.svg\" alt=\"Open In Colab\"/></a>"
      ]
    },
    {
      "cell_type": "code",
      "metadata": {
        "id": "Mil1cX1Q47lr"
      },
      "source": [
        "import torch\n",
        "import torch.nn as nn\n",
        "from torch.utils.data import DataLoader\n",
        "import torchvision.transforms as transforms\n",
        "import torchvision.datasets\n",
        "import numpy as np\n",
        "import matplotlib.pyplot as plt"
      ],
      "execution_count": 108,
      "outputs": []
    },
    {
      "cell_type": "markdown",
      "metadata": {
        "id": "d_B2LpSNVxos"
      },
      "source": [
        "## Основні константи"
      ]
    },
    {
      "cell_type": "code",
      "metadata": {
        "id": "xyxEK-Ak5f_x"
      },
      "source": [
        "num_epochs = 5 \n",
        "num_classes = 10 \n",
        "batch_size = 100 \n",
        "learning_rate = 0.001\n",
        "DATA_PATH ='/content/datasets'\n",
        "MODEL_STORE_PATH ='/content/saveloads/'"
      ],
      "execution_count": 109,
      "outputs": []
    },
    {
      "cell_type": "markdown",
      "metadata": {
        "id": "1j7yHANQVvnV"
      },
      "source": [
        "## Завантаження та нормалізація даних:"
      ]
    },
    {
      "cell_type": "markdown",
      "metadata": {
        "id": "cUNa5eOJWCBs"
      },
      "source": [
        "Датасет MNIST завантажено з бібліотеки torchvision. Після завантаження дані було трансформовано, а саме: перетворено у тензори для роботи з бібліотекою pytorch а також нормалізовано (це не обов'язково , але бажано для кращого навчання)"
      ]
    },
    {
      "cell_type": "code",
      "metadata": {
        "id": "Y1ROt_Kq6PqE"
      },
      "source": [
        "trans = transforms.Compose([transforms.ToTensor(), transforms.Normalize((0.1307,), (0.3081,))]) \n",
        "\n",
        "train_dataset = torchvision.datasets.MNIST(root=DATA_PATH, train=True, transform=trans, download=True) \n",
        "test_dataset = torchvision.datasets.MNIST(root=DATA_PATH, train=False, transform=trans)"
      ],
      "execution_count": 110,
      "outputs": []
    },
    {
      "cell_type": "markdown",
      "metadata": {
        "id": "0U-MXO3FWvx3"
      },
      "source": [
        "DataLoader - зручний інструмент для отримання батчів з датасету (тобто витягати з датасету по 100 картинок за раз для навчання та тестування)\n"
      ]
    },
    {
      "cell_type": "code",
      "metadata": {
        "id": "tcvkdOpP9Oev"
      },
      "source": [
        "train_loader = DataLoader(dataset=train_dataset, batch_size=batch_size,shuffle=True) \n",
        "test_loader = DataLoader(dataset=test_dataset, batch_size=batch_size, shuffle=False)"
      ],
      "execution_count": 111,
      "outputs": []
    },
    {
      "cell_type": "markdown",
      "metadata": {
        "id": "XxLllyIlW_5u"
      },
      "source": [
        "Нижче ми створили модель яку будемо навчати. Для того, щоб працювати з стандартними апаратами фреймворку pytorch необхідно, щоб модель наслідувала nn.Module .   \n",
        "Перший, другий і третій шар у нас складається з згортки (тобто послідовної конволюції, активаційної функції та макспулінгу). Зміну розміру даних можна розрахувати за формулою:  \n",
        "$out = \\frac{input - kernelsize + padding*2}{stride} + 1$  \n",
        "Підставивши у формулу бачимо, що карти ознак після конволюції не зменшуютсья, але замість одного зображення ми отримуємо 32 карти ознак. Проте після макспулінгу з ядром 2 отримуємо картинки розміром 14 на 14.  \n",
        "Аналогічно з другої згортки ми отримуємо 64 карти ознак з розміром 7 на 7.   \n",
        "Третя згортка дає нам 128 карт ознак з розміром 4 на 4 (для того, щоб маспулінг підходив для непарного розміру карти ознак, зробив stride = 1 замість 2).  \n",
        "Далі ми передаємо отримані карти ознак у повнозв'язний шар з 1000 нейронів та 10 виходами (по одному для кожного класу).  \n",
        "Розглянемо функцію forward(). Вона перевантажує відповідний метод з nn.Module і саме його putorch оптимізатори будуть використовувати для навчання. У ньому задається порядок виклику щарів. Єдине на що слід звернути увагу - це на\n",
        "\n",
        "```\n",
        "out = out.reshape(out.size(0), -1)\n",
        "```\n",
        "У данному фрагменті коду ми переводимо наші карти ознак в одновимірний масив. Перед цим наші дані були вигляду $(100, 128, 4, 4)$ , де 100 - кількість елементів у батчі, 128 - кількість карт ознак на виході 3-ї згортки, а 4 на 4 - розмір одної карти ознаки.  \n",
        "Після перетворення отримуємо форму $(100, 128*4*4)$ , тобто ми перетворили вхідні дані на одновимірний масив для кожного елементу з батчу."
      ]
    },
    {
      "cell_type": "code",
      "metadata": {
        "id": "MCsVQZRE9P_O"
      },
      "source": [
        "class ConvNet(nn.Module):\n",
        "    def __init__(self):\n",
        "        super(ConvNet, self).__init__()\n",
        "        self.layer1 = nn.Sequential(\n",
        "            nn.Conv2d(1, 32, kernel_size=5, stride=1, padding=2),\n",
        "            nn.ReLU(),\n",
        "            nn.MaxPool2d(kernel_size=2, stride=2))\n",
        "        self.layer2 = nn.Sequential(\n",
        "            nn.Conv2d(32, 64, kernel_size=5, stride=1, padding=2),\n",
        "            nn.ReLU(),\n",
        "            nn.MaxPool2d(kernel_size=2, stride=2))\n",
        "        self.layer3 = nn.Sequential(\n",
        "            nn.Conv2d(64, 128, kernel_size=5, stride=1, padding=2),\n",
        "            nn.ReLU(),\n",
        "            nn.MaxPool2d(kernel_size=2, stride=1))\n",
        "        self.drop_out = nn.Dropout()\n",
        "        self.fc1 = nn.Linear(6 * 6 * 128, 1000)\n",
        "        self.fc2 = nn.Linear(1000, 10)\n",
        "\n",
        "    def forward(self, x):\n",
        "        out = self.layer1(x)\n",
        "        out = self.layer2(out)\n",
        "        out = self.layer3(out)\n",
        "        out = out.reshape(out.size(0), -1)\n",
        "        out = self.drop_out(out)\n",
        "        out = self.fc1(out)\n",
        "        out = self.fc2(out)\n",
        "        return out\n"
      ],
      "execution_count": 112,
      "outputs": []
    },
    {
      "cell_type": "markdown",
      "metadata": {
        "id": "LHlVD11Ychzw"
      },
      "source": [
        "## Створення екземпляру моделі"
      ]
    },
    {
      "cell_type": "code",
      "metadata": {
        "id": "I5cNPa3yEPTW"
      },
      "source": [
        "model = ConvNet()"
      ],
      "execution_count": 113,
      "outputs": []
    },
    {
      "cell_type": "markdown",
      "metadata": {
        "id": "esZGUORncmnn"
      },
      "source": [
        "## Визначення критерію помилки та оптимізатора, за допомогою якого отримується градієнт"
      ]
    },
    {
      "cell_type": "code",
      "metadata": {
        "id": "GV9eO3zvEP11"
      },
      "source": [
        "criterion = nn.CrossEntropyLoss()\n",
        "optimizer = torch.optim.Adam(model.parameters(), lr=learning_rate)"
      ],
      "execution_count": 114,
      "outputs": []
    },
    {
      "cell_type": "markdown",
      "metadata": {
        "id": "NZcB-tUUc1oc"
      },
      "source": [
        "## Навчання моделі"
      ]
    },
    {
      "cell_type": "markdown",
      "metadata": {
        "id": "75ktG5nSc43M"
      },
      "source": [
        "Нижче приведено алгоритм навчання моделі на навчальній вибірці. Спочатку картинка з вибірки подається в модель, викликається метод forward() і ми отримуємо вихід з вектором оцінок (тобто до якого класу що відноситься). Далі ми вираховуємо похибку моделі порівнюючи передбачений вихід з реальним.  \n",
        "Після цого починаємо корегування ваг. Для цого визначаємо градієнт та за визначеною похибкою мінімізуємо відхилення. Всі дані ітерації записуємо до масиву для подальшого виведення на графік."
      ]
    },
    {
      "cell_type": "code",
      "metadata": {
        "colab": {
          "base_uri": "https://localhost:8080/"
        },
        "id": "gAFFsRE1ETt-",
        "outputId": "6c3de306-9580-490e-a991-b9a8632a1cae"
      },
      "source": [
        "total_step = len(train_loader)\n",
        "loss_list = []\n",
        "acc_list = []\n",
        "for epoch in range(num_epochs):\n",
        "    for i, (images, labels) in enumerate(train_loader):\n",
        "        # Run the forward pass\n",
        "        outputs = model(images)\n",
        "        loss = criterion(outputs, labels)\n",
        "        loss_list.append(loss.item())\n",
        "\n",
        "        # Backprop and perform Adam optimisation\n",
        "        optimizer.zero_grad()\n",
        "        loss.backward()\n",
        "        optimizer.step()\n",
        "\n",
        "        # Track the accuracy\n",
        "        total = labels.size(0)\n",
        "        _, predicted = torch.max(outputs.data, 1)\n",
        "        correct = (predicted == labels).sum().item()\n",
        "        acc_list.append(correct / total)\n",
        "\n",
        "        if (i + 1) % 100 == 0:\n",
        "            print('Epoch [{}/{}], Step [{}/{}], Loss: {:.4f}, Accuracy: {:.2f}%'\n",
        "                  .format(epoch + 1, num_epochs, i + 1, total_step, loss.item(),\n",
        "                          (correct / total) * 100))\n"
      ],
      "execution_count": 115,
      "outputs": [
        {
          "output_type": "stream",
          "name": "stdout",
          "text": [
            "Epoch [1/5], Step [100/600], Loss: 0.1136, Accuracy: 97.00%\n",
            "Epoch [1/5], Step [200/600], Loss: 0.1197, Accuracy: 96.00%\n",
            "Epoch [1/5], Step [300/600], Loss: 0.0662, Accuracy: 97.00%\n",
            "Epoch [1/5], Step [400/600], Loss: 0.0961, Accuracy: 96.00%\n",
            "Epoch [1/5], Step [500/600], Loss: 0.0964, Accuracy: 95.00%\n",
            "Epoch [1/5], Step [600/600], Loss: 0.0378, Accuracy: 99.00%\n",
            "Epoch [2/5], Step [100/600], Loss: 0.0305, Accuracy: 98.00%\n",
            "Epoch [2/5], Step [200/600], Loss: 0.0503, Accuracy: 98.00%\n",
            "Epoch [2/5], Step [300/600], Loss: 0.0307, Accuracy: 99.00%\n",
            "Epoch [2/5], Step [400/600], Loss: 0.0415, Accuracy: 99.00%\n",
            "Epoch [2/5], Step [500/600], Loss: 0.1036, Accuracy: 97.00%\n",
            "Epoch [2/5], Step [600/600], Loss: 0.1035, Accuracy: 98.00%\n",
            "Epoch [3/5], Step [100/600], Loss: 0.0831, Accuracy: 98.00%\n",
            "Epoch [3/5], Step [200/600], Loss: 0.0352, Accuracy: 98.00%\n",
            "Epoch [3/5], Step [300/600], Loss: 0.0545, Accuracy: 97.00%\n",
            "Epoch [3/5], Step [400/600], Loss: 0.0127, Accuracy: 100.00%\n",
            "Epoch [3/5], Step [500/600], Loss: 0.0376, Accuracy: 98.00%\n",
            "Epoch [3/5], Step [600/600], Loss: 0.1081, Accuracy: 98.00%\n",
            "Epoch [4/5], Step [100/600], Loss: 0.0245, Accuracy: 99.00%\n",
            "Epoch [4/5], Step [200/600], Loss: 0.0036, Accuracy: 100.00%\n",
            "Epoch [4/5], Step [300/600], Loss: 0.0324, Accuracy: 99.00%\n",
            "Epoch [4/5], Step [400/600], Loss: 0.0532, Accuracy: 99.00%\n",
            "Epoch [4/5], Step [500/600], Loss: 0.0722, Accuracy: 98.00%\n",
            "Epoch [4/5], Step [600/600], Loss: 0.0856, Accuracy: 97.00%\n",
            "Epoch [5/5], Step [100/600], Loss: 0.1682, Accuracy: 97.00%\n",
            "Epoch [5/5], Step [200/600], Loss: 0.0270, Accuracy: 98.00%\n",
            "Epoch [5/5], Step [300/600], Loss: 0.0165, Accuracy: 99.00%\n",
            "Epoch [5/5], Step [400/600], Loss: 0.0067, Accuracy: 100.00%\n",
            "Epoch [5/5], Step [500/600], Loss: 0.0244, Accuracy: 98.00%\n",
            "Epoch [5/5], Step [600/600], Loss: 0.0804, Accuracy: 98.00%\n"
          ]
        }
      ]
    },
    {
      "cell_type": "markdown",
      "metadata": {
        "id": "DU67-af_etPH"
      },
      "source": [
        "## Перевірка на тестовій вибірці"
      ]
    },
    {
      "cell_type": "markdown",
      "metadata": {
        "id": "o086l73OeyFQ"
      },
      "source": [
        "Після навчання необхідно протестувати нашу модель на тестовій вибірці. Тут ми так само отримуємо передбачення з моделі та порівнюємо з реальними і вираховуємо точність."
      ]
    },
    {
      "cell_type": "code",
      "metadata": {
        "id": "1Ur0r07DEX1O",
        "colab": {
          "base_uri": "https://localhost:8080/"
        },
        "outputId": "3f7706a5-7eba-4aa6-f020-ea6d05768aa9"
      },
      "source": [
        "model.eval()\n",
        "with torch.no_grad():\n",
        "    correct = 0\n",
        "    total = 0\n",
        "    for images, labels in test_loader:\n",
        "        outputs = model(images)\n",
        "        _, predicted = torch.max(outputs.data, 1)\n",
        "        total += labels.size(0)\n",
        "        correct += (predicted == labels).sum().item()\n",
        "\n",
        "    print('Test Accuracy of the model on the 10000 test images: {} %'.format((correct / total) * 100))\n"
      ],
      "execution_count": 116,
      "outputs": [
        {
          "output_type": "stream",
          "name": "stdout",
          "text": [
            "Test Accuracy of the model on the 10000 test images: 98.88 %\n"
          ]
        }
      ]
    },
    {
      "cell_type": "markdown",
      "metadata": {
        "id": "SLKXAXQ0fGrd"
      },
      "source": [
        "## Збереження моделі"
      ]
    },
    {
      "cell_type": "code",
      "metadata": {
        "id": "iu_032vaEdvY"
      },
      "source": [
        "torch.save(model.state_dict(),'conv_net_model.ckpt')"
      ],
      "execution_count": 117,
      "outputs": []
    },
    {
      "cell_type": "markdown",
      "metadata": {
        "id": "iB4mIfyXfNB2"
      },
      "source": [
        "## Графік"
      ]
    },
    {
      "cell_type": "code",
      "metadata": {
        "id": "0nOh6UPoinXs",
        "colab": {
          "base_uri": "https://localhost:8080/",
          "height": 281
        },
        "outputId": "c66db590-b3c0-4b0d-9b7c-f7887c4647c6"
      },
      "source": [
        "plt.title('ConvNet results')\n",
        "plt.ylabel(\"Accuracy\")\n",
        "plt.ylim((0, 100)) \n",
        "plt.plot(np.arange(len(loss_list)), np.array(acc_list)*100, color = \"blue\", label= 'Accuracy')\n",
        "plt.plot(np.arange(len(loss_list)), np.array(loss_list)*100, color= 'red', label = 'loss negative log likelihood')\n",
        "plt.legend()\n",
        "plt.show()"
      ],
      "execution_count": 118,
      "outputs": [
        {
          "output_type": "display_data",
          "data": {
            "image/png": "[encoded data removed]",
            "text/plain": [
              "<Figure size 432x288 with 1 Axes>"
            ]
          },
          "metadata": {
            "needs_background": "light"
          }
        }
      ]
    }
  ]
}